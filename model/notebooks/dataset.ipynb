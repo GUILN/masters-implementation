{
 "cells": [
  {
   "cell_type": "code",
   "execution_count": 1,
   "id": "55adac5a",
   "metadata": {},
   "outputs": [
    {
     "name": "stderr",
     "output_type": "stream",
     "text": [
      "2025-10-19 12:02:10,828 - INFO - Sentry DSN set to: https://f4f21cc936b3ba9f5dbc1464b7a40ea4@o4504168838070272.ingest.us.sentry.io/4506464560414720\n",
      "2025-10-19 12:02:10,829 - INFO - Sentry initialized with environment: development\n"
     ]
    },
    {
     "name": "stdout",
     "output_type": "stream",
     "text": [
      "Loading config...\n",
      "Loading secrets...\n"
     ]
    }
   ],
   "source": [
    "import os\n",
    "from pathlib import Path\n",
    "import sys\n",
    "sys.path.append(str(Path(os.getcwd()).parent))\n",
    "\n",
    "from settings.global_settings import GlobalSettings\n",
    "\n",
    "config = GlobalSettings.get_config(\n",
    "    config_file = \"../config.ini\",\n",
    "    secrets_file = \"../secrets.ini\"\n",
    ")\n",
    "from dataset.video_loader import VideoDataLoader\n",
    "from dataset.video_dataset import VideoDataset"
   ]
  },
  {
   "cell_type": "markdown",
   "id": "cb59f55b",
   "metadata": {},
   "source": [
    "## Loading VideoDataLoader"
   ]
  },
  {
   "cell_type": "code",
   "execution_count": 2,
   "id": "202925f4",
   "metadata": {},
   "outputs": [],
   "source": [
    "video_data_loader = VideoDataLoader(\n",
    "    path=config.model_settings.video_data_dir\n",
    ")\n",
    "\n",
    "video_dataset = VideoDataset(\n",
    "    video_data_loader=video_data_loader,\n",
    ")"
   ]
  },
  {
   "cell_type": "markdown",
   "id": "17c08026",
   "metadata": {},
   "source": [
    "**Testing video_dataset**"
   ]
  },
  {
   "cell_type": "code",
   "execution_count": 3,
   "id": "69e7df2f",
   "metadata": {},
   "outputs": [
    {
     "name": "stderr",
     "output_type": "stream",
     "text": [
      "2025-10-19 12:02:12,590 - INFO - [VideoDataLoader] Loding action videos for action: a01\n",
      "2025-10-19 12:02:13,054 - INFO - [VideoDataLoader] Loding action videos for action: a02\n",
      "2025-10-19 12:02:13,595 - INFO - [VideoDataLoader] Loding action videos for action: a03\n",
      "2025-10-19 12:02:13,912 - INFO - [VideoDataLoader] Loding action videos for action: a04\n",
      "2025-10-19 12:02:14,550 - INFO - [VideoDataLoader] Loding action videos for action: a05\n",
      "2025-10-19 12:02:14,914 - INFO - [VideoDataLoader] Loding action videos for action: a06\n",
      "2025-10-19 12:02:15,386 - INFO - [VideoDataLoader] Loding action videos for action: a08\n",
      "2025-10-19 12:02:16,374 - INFO - [VideoDataLoader] Loding action videos for action: a09\n",
      "2025-10-19 12:02:17,677 - INFO - [VideoDataLoader] Loding action videos for action: a11\n",
      "2025-10-19 12:02:18,070 - INFO - [VideoDataLoader] Loding action videos for action: a12\n"
     ]
    },
    {
     "name": "stdout",
     "output_type": "stream",
     "text": [
      "1475\n"
     ]
    }
   ],
   "source": [
    "print(len(video_dataset))"
   ]
  },
  {
   "cell_type": "code",
   "execution_count": 4,
   "id": "bf6c80b2",
   "metadata": {},
   "outputs": [
    {
     "name": "stdout",
     "output_type": "stream",
     "text": [
      "[Data(x=[6, 5], edge_index=[2, 30]), Data(x=[7, 5], edge_index=[2, 42]), Data(x=[8, 5], edge_index=[2, 56]), Data(x=[7, 5], edge_index=[2, 42]), Data(x=[7, 5], edge_index=[2, 42]), Data(x=[7, 5], edge_index=[2, 42]), Data(x=[7, 5], edge_index=[2, 42]), Data(x=[7, 5], edge_index=[2, 42]), Data(x=[7, 5], edge_index=[2, 42]), Data(x=[7, 5], edge_index=[2, 42]), Data(x=[8, 5], edge_index=[2, 56]), Data(x=[7, 5], edge_index=[2, 42]), Data(x=[6, 5], edge_index=[2, 30])]\n"
     ]
    }
   ],
   "source": [
    "print(video_dataset[0].graphs_objects)  # Print the first item in the dataset for verification"
   ]
  },
  {
   "cell_type": "code",
   "execution_count": 5,
   "id": "64402a99",
   "metadata": {},
   "outputs": [
    {
     "name": "stdout",
     "output_type": "stream",
     "text": [
      "tensor([[0, 0, 0, 0, 0, 0, 1, 1, 1, 1, 1, 1, 2, 2, 2, 2, 2, 2, 3, 3, 3, 3, 3, 3,\n",
      "         4, 4, 4, 4, 4, 4, 5, 5, 5, 5, 5, 5, 6, 6, 6, 6, 6, 6],\n",
      "        [1, 2, 3, 4, 5, 6, 0, 2, 3, 4, 5, 6, 0, 1, 3, 4, 5, 6, 0, 1, 2, 4, 5, 6,\n",
      "         0, 1, 2, 3, 5, 6, 0, 1, 2, 3, 4, 6, 0, 1, 2, 3, 4, 5]])\n"
     ]
    }
   ],
   "source": [
    "print(video_dataset[2].graphs_objects[0].edge_index)"
   ]
  },
  {
   "cell_type": "code",
   "execution_count": 6,
   "id": "295c8784",
   "metadata": {},
   "outputs": [
    {
     "name": "stdout",
     "output_type": "stream",
     "text": [
      "tensor([[0, 0, 0, 0, 0, 0, 1, 1, 1, 1, 1, 1, 2, 2, 2, 2, 2, 2, 3, 3, 3, 3, 3, 3,\n",
      "         4, 4, 4, 4, 4, 4, 5, 5, 5, 5, 5, 5, 6, 6, 6, 6, 6, 6],\n",
      "        [1, 2, 3, 4, 5, 6, 0, 2, 3, 4, 5, 6, 0, 1, 3, 4, 5, 6, 0, 1, 2, 4, 5, 6,\n",
      "         0, 1, 2, 3, 5, 6, 0, 1, 2, 3, 4, 6, 0, 1, 2, 3, 4, 5]])\n"
     ]
    }
   ],
   "source": [
    "print(video_dataset[2].graphs_objects[0].edge_index)"
   ]
  },
  {
   "cell_type": "markdown",
   "id": "c5020300",
   "metadata": {},
   "source": [
    "**Test from Dataloader:**"
   ]
  },
  {
   "cell_type": "code",
   "execution_count": 7,
   "id": "444658f0",
   "metadata": {},
   "outputs": [
    {
     "name": "stdout",
     "output_type": "stream",
     "text": [
      "[VideoData(graphs_objects=[Data(x=[4, 5], edge_index=[2, 12]), Data(x=[4, 5], edge_index=[2, 12]), Data(x=[4, 5], edge_index=[2, 12]), Data(x=[4, 5], edge_index=[2, 12]), Data(x=[5, 5], edge_index=[2, 20]), Data(x=[5, 5], edge_index=[2, 20]), Data(x=[5, 5], edge_index=[2, 20]), Data(x=[4, 5], edge_index=[2, 12]), Data(x=[4, 5], edge_index=[2, 12]), Data(x=[4, 5], edge_index=[2, 12]), Data(x=[4, 5], edge_index=[2, 12]), Data(x=[4, 5], edge_index=[2, 12]), Data(x=[4, 5], edge_index=[2, 12]), Data(x=[4, 5], edge_index=[2, 12]), Data(x=[5, 5], edge_index=[2, 20]), Data(x=[4, 5], edge_index=[2, 12]), Data(x=[4, 5], edge_index=[2, 12]), Data(x=[4, 5], edge_index=[2, 12]), Data(x=[4, 5], edge_index=[2, 12]), Data(x=[4, 5], edge_index=[2, 12]), Data(x=[5, 5], edge_index=[2, 20]), Data(x=[4, 5], edge_index=[2, 12]), Data(x=[4, 5], edge_index=[2, 12]), Data(x=[4, 5], edge_index=[2, 12]), Data(x=[4, 5], edge_index=[2, 12]), Data(x=[4, 5], edge_index=[2, 12]), Data(x=[4, 5], edge_index=[2, 12]), Data(x=[4, 5], edge_index=[2, 12]), Data(x=[4, 5], edge_index=[2, 12]), Data(x=[4, 5], edge_index=[2, 12])], graphs_joints=[Data(x=[17, 3], edge_index=[2, 272]), Data(x=[17, 3], edge_index=[2, 272]), Data(x=[17, 3], edge_index=[2, 272]), Data(x=[17, 3], edge_index=[2, 272]), Data(x=[17, 3], edge_index=[2, 272]), Data(x=[17, 3], edge_index=[2, 272]), Data(x=[17, 3], edge_index=[2, 272]), Data(x=[17, 3], edge_index=[2, 272]), Data(x=[17, 3], edge_index=[2, 272]), Data(x=[17, 3], edge_index=[2, 272]), Data(x=[17, 3], edge_index=[2, 272]), Data(x=[17, 3], edge_index=[2, 272]), Data(x=[17, 3], edge_index=[2, 272]), Data(x=[17, 3], edge_index=[2, 272]), Data(x=[17, 3], edge_index=[2, 272]), Data(x=[17, 3], edge_index=[2, 272]), Data(x=[17, 3], edge_index=[2, 272]), Data(x=[17, 3], edge_index=[2, 272]), Data(x=[17, 3], edge_index=[2, 272]), Data(x=[17, 3], edge_index=[2, 272]), Data(x=[17, 3], edge_index=[2, 272]), Data(x=[17, 3], edge_index=[2, 272]), Data(x=[17, 3], edge_index=[2, 272]), Data(x=[17, 3], edge_index=[2, 272]), Data(x=[17, 3], edge_index=[2, 272]), Data(x=[17, 3], edge_index=[2, 272]), Data(x=[17, 3], edge_index=[2, 272]), Data(x=[17, 3], edge_index=[2, 272]), Data(x=[17, 3], edge_index=[2, 272]), Data(x=[17, 3], edge_index=[2, 272])], label=tensor(1)), VideoData(graphs_objects=[Data(x=[5, 5], edge_index=[2, 20]), Data(x=[5, 5], edge_index=[2, 20]), Data(x=[5, 5], edge_index=[2, 20]), Data(x=[5, 5], edge_index=[2, 20]), Data(x=[6, 5], edge_index=[2, 30]), Data(x=[5, 5], edge_index=[2, 20]), Data(x=[5, 5], edge_index=[2, 20]), Data(x=[5, 5], edge_index=[2, 20]), Data(x=[5, 5], edge_index=[2, 20]), Data(x=[5, 5], edge_index=[2, 20]), Data(x=[5, 5], edge_index=[2, 20]), Data(x=[5, 5], edge_index=[2, 20]), Data(x=[7, 5], edge_index=[2, 42]), Data(x=[9, 5], edge_index=[2, 72]), Data(x=[9, 5], edge_index=[2, 72]), Data(x=[8, 5], edge_index=[2, 56]), Data(x=[9, 5], edge_index=[2, 72]), Data(x=[7, 5], edge_index=[2, 42]), Data(x=[7, 5], edge_index=[2, 42]), Data(x=[6, 5], edge_index=[2, 30]), Data(x=[6, 5], edge_index=[2, 30]), Data(x=[7, 5], edge_index=[2, 42]), Data(x=[7, 5], edge_index=[2, 42]), Data(x=[6, 5], edge_index=[2, 30]), Data(x=[9, 5], edge_index=[2, 72]), Data(x=[7, 5], edge_index=[2, 42]), Data(x=[7, 5], edge_index=[2, 42]), Data(x=[9, 5], edge_index=[2, 72]), Data(x=[8, 5], edge_index=[2, 56]), Data(x=[10, 5], edge_index=[2, 90]), Data(x=[8, 5], edge_index=[2, 56]), Data(x=[9, 5], edge_index=[2, 72]), Data(x=[9, 5], edge_index=[2, 72]), Data(x=[9, 5], edge_index=[2, 72]), Data(x=[8, 5], edge_index=[2, 56]), Data(x=[10, 5], edge_index=[2, 90]), Data(x=[7, 5], edge_index=[2, 42]), Data(x=[7, 5], edge_index=[2, 42]), Data(x=[7, 5], edge_index=[2, 42]), Data(x=[7, 5], edge_index=[2, 42]), Data(x=[7, 5], edge_index=[2, 42]), Data(x=[7, 5], edge_index=[2, 42]), Data(x=[8, 5], edge_index=[2, 56]), Data(x=[6, 5], edge_index=[2, 30]), Data(x=[6, 5], edge_index=[2, 30]), Data(x=[7, 5], edge_index=[2, 42]), Data(x=[8, 5], edge_index=[2, 56]), Data(x=[7, 5], edge_index=[2, 42]), Data(x=[8, 5], edge_index=[2, 56]), Data(x=[7, 5], edge_index=[2, 42]), Data(x=[8, 5], edge_index=[2, 56]), Data(x=[7, 5], edge_index=[2, 42]), Data(x=[7, 5], edge_index=[2, 42]), Data(x=[8, 5], edge_index=[2, 56]), Data(x=[7, 5], edge_index=[2, 42]), Data(x=[8, 5], edge_index=[2, 56]), Data(x=[7, 5], edge_index=[2, 42]), Data(x=[8, 5], edge_index=[2, 56]), Data(x=[9, 5], edge_index=[2, 72]), Data(x=[10, 5], edge_index=[2, 90]), Data(x=[7, 5], edge_index=[2, 42]), Data(x=[8, 5], edge_index=[2, 56]), Data(x=[7, 5], edge_index=[2, 42])], graphs_joints=[Data(x=[17, 3], edge_index=[2, 272]), Data(x=[17, 3], edge_index=[2, 272]), Data(x=[17, 3], edge_index=[2, 272]), Data(x=[17, 3], edge_index=[2, 272]), Data(x=[17, 3], edge_index=[2, 272]), Data(x=[17, 3], edge_index=[2, 272]), Data(x=[17, 3], edge_index=[2, 272]), Data(x=[17, 3], edge_index=[2, 272]), Data(x=[17, 3], edge_index=[2, 272]), Data(x=[17, 3], edge_index=[2, 272]), Data(x=[17, 3], edge_index=[2, 272]), Data(x=[17, 3], edge_index=[2, 272]), Data(x=[17, 3], edge_index=[2, 272]), Data(x=[17, 3], edge_index=[2, 272]), Data(x=[17, 3], edge_index=[2, 272]), Data(x=[17, 3], edge_index=[2, 272]), Data(x=[17, 3], edge_index=[2, 272]), Data(x=[17, 3], edge_index=[2, 272]), Data(x=[17, 3], edge_index=[2, 272]), Data(x=[17, 3], edge_index=[2, 272]), Data(x=[17, 3], edge_index=[2, 272]), Data(x=[17, 3], edge_index=[2, 272]), Data(x=[17, 3], edge_index=[2, 272]), Data(x=[17, 3], edge_index=[2, 272]), Data(x=[17, 3], edge_index=[2, 272]), Data(x=[17, 3], edge_index=[2, 272]), Data(x=[17, 3], edge_index=[2, 272]), Data(x=[17, 3], edge_index=[2, 272]), Data(x=[17, 3], edge_index=[2, 272]), Data(x=[17, 3], edge_index=[2, 272]), Data(x=[17, 3], edge_index=[2, 272]), Data(x=[17, 3], edge_index=[2, 272]), Data(x=[17, 3], edge_index=[2, 272]), Data(x=[17, 3], edge_index=[2, 272]), Data(x=[17, 3], edge_index=[2, 272]), Data(x=[17, 3], edge_index=[2, 272]), Data(x=[17, 3], edge_index=[2, 272]), Data(x=[17, 3], edge_index=[2, 272]), Data(x=[17, 3], edge_index=[2, 272]), Data(x=[17, 3], edge_index=[2, 272]), Data(x=[17, 3], edge_index=[2, 272]), Data(x=[17, 3], edge_index=[2, 272]), Data(x=[17, 3], edge_index=[2, 272]), Data(x=[17, 3], edge_index=[2, 272]), Data(x=[17, 3], edge_index=[2, 272]), Data(x=[17, 3], edge_index=[2, 272]), Data(x=[17, 3], edge_index=[2, 272]), Data(x=[17, 3], edge_index=[2, 272]), Data(x=[17, 3], edge_index=[2, 272]), Data(x=[17, 3], edge_index=[2, 272]), Data(x=[17, 3], edge_index=[2, 272]), Data(x=[17, 3], edge_index=[2, 272]), Data(x=[17, 3], edge_index=[2, 272]), Data(x=[17, 3], edge_index=[2, 272]), Data(x=[17, 3], edge_index=[2, 272]), Data(x=[17, 3], edge_index=[2, 272]), Data(x=[17, 3], edge_index=[2, 272]), Data(x=[17, 3], edge_index=[2, 272]), Data(x=[17, 3], edge_index=[2, 272]), Data(x=[17, 3], edge_index=[2, 272]), Data(x=[17, 3], edge_index=[2, 272]), Data(x=[17, 3], edge_index=[2, 272]), Data(x=[17, 3], edge_index=[2, 272])], label=tensor(2))]\n"
     ]
    }
   ],
   "source": [
    "from torch.utils.data import DataLoader\n",
    "\n",
    "loader = DataLoader(video_dataset, batch_size=2, shuffle=True, collate_fn=lambda x: x)\n",
    "for batch in loader:\n",
    "    print(batch)\n",
    "    break"
   ]
  },
  {
   "cell_type": "markdown",
   "id": "8912b4da",
   "metadata": {},
   "source": [
    "**Verifying Labels**"
   ]
  },
  {
   "cell_type": "code",
   "execution_count": 8,
   "id": "5a002419",
   "metadata": {},
   "outputs": [
    {
     "name": "stdout",
     "output_type": "stream",
     "text": [
      "10\n",
      "{'a01': 0, 'a09': 1, 'a08': 2, 'a02': 3, 'a03': 4, 'a04': 5, 'a05': 6, 'a06': 7, 'a11': 8, 'a12': 9}\n"
     ]
    }
   ],
   "source": [
    "# print(video_dataset[1000].graphs_objects[0].edge_index)\n",
    "for video_data in video_dataset:\n",
    "    pass\n",
    "print(len(video_dataset.labels_map))\n",
    "print(video_dataset.labels_map)"
   ]
  }
 ],
 "metadata": {
  "kernelspec": {
   "display_name": ".venv",
   "language": "python",
   "name": "python3"
  },
  "language_info": {
   "codemirror_mode": {
    "name": "ipython",
    "version": 3
   },
   "file_extension": ".py",
   "mimetype": "text/x-python",
   "name": "python",
   "nbconvert_exporter": "python",
   "pygments_lexer": "ipython3",
   "version": "3.9.16"
  }
 },
 "nbformat": 4,
 "nbformat_minor": 5
}
